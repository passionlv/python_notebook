{
 "cells": [
  {
   "cell_type": "markdown",
   "metadata": {},
   "source": [
    "# numpy\n",
    "\n",
    "## numpy概述\n",
    "\n",
    "ndarray：多维数组对象\n",
    "\n",
    "\n",
    "## ndarray简介\n",
    "\n",
    "ndarray由两部分组成：实际数据和元数据。\n",
    "\n",
    "### ndarray的特性：\n",
    "主要包含以下：\n",
    "1. 一般是同质的\n",
    "2. 下标从0开始\n",
    "\n",
    "### ndarray的元数据\n",
    "#### dtype\n",
    "\n",
    "\n",
    "### ndarray创建\n",
    "\n",
    "\n"
   ]
  },
  {
   "cell_type": "code",
   "execution_count": null,
   "metadata": {
    "collapsed": true
   },
   "outputs": [],
   "source": []
  },
  {
   "cell_type": "code",
   "execution_count": null,
   "metadata": {
    "collapsed": true
   },
   "outputs": [],
   "source": []
  }
 ],
 "metadata": {
  "kernelspec": {
   "display_name": "Python [py34]",
   "language": "python",
   "name": "Python [py34]"
  },
  "language_info": {
   "codemirror_mode": {
    "name": "ipython",
    "version": 3
   },
   "file_extension": ".py",
   "mimetype": "text/x-python",
   "name": "python",
   "nbconvert_exporter": "python",
   "pygments_lexer": "ipython3",
   "version": "3.4.5"
  }
 },
 "nbformat": 4,
 "nbformat_minor": 0
}
