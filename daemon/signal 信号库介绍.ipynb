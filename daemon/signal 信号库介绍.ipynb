{
 "cells": [
  {
   "cell_type": "markdown",
   "metadata": {
    "collapsed": true
   },
   "source": [
    "# signal 信号库"
   ]
  },
  {
   "cell_type": "markdown",
   "metadata": {},
   "source": [
    "## 常见信号类型\n",
    "\n",
    "|信号|名称|信号值|含义 \n",
    "| - | - | - | - |\n",
    "SIGINT |    终止进程|  2   | 中断进程，不可通过signal.signal()捕捉(相当于Ctrl+C)\n",
    "SIGTERM |   终止进程|  15  |软件终止，可通过signal.signal()捕捉(默认信号，当os.kill()没有指明信号类型时，默认的是该信号)\n",
    "SIGKILL |   终止进程|  2   | 杀死进程，不可捕捉(相当于linux下的kill命令，windows下使用会抛出异常)\n",
    "SIGALRM |   闹钟信号|  14  | 可以通过signal.alarm()和os.kill()发送该信号，可通过signal.signal()捕捉\n",
    "SIGQUIT |   退出进程|  3   | 和SIGTERM类似，可通过signal.signal()捕捉\n",
    "SIGTSTP |   XX     | 20   | CTRL+Z\n",
    "SIGHUP  |   XX     | 20   | CTRL+Z\n",
    "SIGUSR1 |   XX     | 20   | CTRL+Z"
   ]
  },
  {
   "cell_type": "markdown",
   "metadata": {},
   "source": [
    "## signal.signal()   \n",
    "\n",
    "在signal模块中，主要是使用signal.signal()函数来预设信号处理函数。\n",
    "\n",
    "```singnal.signal(signalnum, handler)```\n",
    "\n",
    "其中:signalnum参数是信号量，handler参数信号处理函数。处理函数有如下三种情况：\n",
    "1. 进程可以无视信号，当handler为signal.SIG_IGN时，信号被无视(ignore)。\n",
    "2. 进程可以采取默认操作，当handler为singal.SIG_DFL，进程采取默认操作(default)。\n",
    "3. 进程还可以自定义操作，当handler为一个函数名时，进程采取函数中定义的操作。\n",
    "\n",
    "handler处理函数应该包含2个参数，signal number与目前的栈帧，也可以直接在参数里写*args比较省事\n",
    "\n"
   ]
  },
  {
   "cell_type": "code",
   "execution_count": null,
   "metadata": {},
   "outputs": [],
   "source": [
    "import signal\n",
    "import time\n",
    "\n",
    "def signal_handler(signum, frame):\n",
    "    print('Received signal: ', signum)\n",
    "    #print(frame)\n",
    "    \n",
    "n = 1\n",
    "while True:\n",
    "    signal.signal(signal.SIGHUP, signal_handler) # 1\n",
    "    # 点击 jupyter 中的 停止按钮， Ctrl+C 触发 2 信号。  \n",
    "    signal.signal(signal.SIGINT, signal_handler) # 2\n",
    "    # kill -3 命令产生 SIGTERM 信号 \n",
    "    signal.signal(signal.SIGQUIT, signal_handler) # 3\n",
    "    signal.signal(signal.SIGALRM, signal_handler) # 14\n",
    "    # kill 命令产生 SIGTERM 信号 \n",
    "    signal.signal(signal.SIGTERM, signal_handler) # 15\n",
    "    signal.signal(signal.SIGCONT, signal_handler) # 18\n",
    "    # 5 秒后自动触发 signal.SIGALRM 信号。 signal.SIGALRM 为 14\n",
    "    signal.alarm(5)\n",
    "    while True:\n",
    "        print('waiting %s s '%n)\n",
    "        time.sleep(1)\n",
    "        n = n + 1\n",
    "        #if n > 10:\n",
    "        #    break\n",
    "            #raise NotImplementedError\n",
    "            \n",
    "            \n",
    "\n",
    "#如果进程被终止后面的信号不会起作用\n",
    "#os.kill(4976,signal.SIGINT)\n",
    "#os.kill(5006,signal.SIGKILL)\n",
    "#os.kill(5071,signal.SIGQUIT)\n"
   ]
  },
  {
   "cell_type": "code",
   "execution_count": null,
   "metadata": {},
   "outputs": [],
   "source": []
  },
  {
   "cell_type": "code",
   "execution_count": null,
   "metadata": {},
   "outputs": [],
   "source": []
  },
  {
   "cell_type": "markdown",
   "metadata": {},
   "source": [
    "## signal.alarm()  -->  SIGALRM (14)\n",
    "\n",
    "signal.alarm()用于在一定时间后向进程自身发送SIGALRM信号。 \n",
    "\n",
    "比如下面的例子设置3秒后向自己发送一个SIGALRM信号。如果在handler函数中重复调用signal.alarm(3)，就可设定一个定时触发任务。"
   ]
  },
  {
   "cell_type": "code",
   "execution_count": null,
   "metadata": {},
   "outputs": [],
   "source": [
    "import signal\n",
    "import time\n",
    "\n",
    "def signal_handler(signum, frame):\n",
    "    print('Received signal: ', signum)\n",
    "    #signal.alarm(3)\n",
    "print(signal.SIGTSTP)\n",
    "    \n",
    "while True:\n",
    "    signal.signal(signal.SIGALRM, signal_handler) # 14\n",
    "    signal.alarm(3)\n",
    "    while True:\n",
    "        print('waiting')\n",
    "        time.sleep(1)"
   ]
  },
  {
   "cell_type": "code",
   "execution_count": null,
   "metadata": {},
   "outputs": [],
   "source": []
  }
 ],
 "metadata": {
  "kernelspec": {
   "display_name": "Python 3",
   "language": "python",
   "name": "python3"
  },
  "language_info": {
   "codemirror_mode": {
    "name": "ipython",
    "version": 3
   },
   "file_extension": ".py",
   "mimetype": "text/x-python",
   "name": "python",
   "nbconvert_exporter": "python",
   "pygments_lexer": "ipython3",
   "version": "3.6.6"
  }
 },
 "nbformat": 4,
 "nbformat_minor": 1
}
