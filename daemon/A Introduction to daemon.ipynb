{
 "cells": [
  {
   "cell_type": "markdown",
   "metadata": {},
   "source": [
    "# daemon讲解"
   ]
  },
  {
   "cell_type": "markdown",
   "metadata": {},
   "source": [
    "### 目录\n",
    "- 基本概念\n",
    "- 基本原理 \n",
    "- PEP 4134 设计\n",
    "- python-daemon库\n",
    "- python-daemon实例\n",
    "- 附录 A: 一个python daemon的实现\n",
    "- 附录 B: 其他daemon的实现\n"
   ]
  },
  {
   "cell_type": "markdown",
   "metadata": {},
   "source": [
    "## 基本概念 \n",
    "\n",
    "### 进程\n",
    "\n",
    "进程是程序的一个运行实例，也是执行程序的过程。同一个程序可以执行多次，每次都对应一个进程。在每次执行程序时，进程开辟独立内存空间、IO接口。\n",
    "\n",
    "操作系统的一个重要功能就是进程管理，其功能主要是为进程分配内存空间，管理进程的相关信息等等。\n",
    "\n",
    "在Linux中，可用$ps命令来查询正在运行的进程，常用的命令有：\n",
    "- 显示帮助 ps --help all\n",
    "- 查看所有进程  ps ax 或  ps -e\n",
    "- 显示某个用户的进程 ps -u root\n",
    "- 通过进程名或者进程id显示进程 ps -C bash 或 ps -f -p 3150,7298,6544\n",
    "- 利用 cpu 或者内存使用量对进程排序 ps aux --sort=-pcpu,+pmem\n",
    "- 显示 ASCII 进程树 ps -ef --forest\n",
    "- 显示进程的线程 ps -ef | grep bash\n",
    "- 显示进程已运行的时间 ps -e -o pid,comm,etime\n",
    "\n",
    "PS命令中的Head标头：\n",
    "- USER 用户名\n",
    "- UID 用户ID（User ID）\n",
    "- PID 进程ID（Process ID）\n",
    "- PPID 父进程的进程ID（Parent Process id）\n",
    "- SID 会话ID（Session id）\n",
    "- %CPU 进程的cpu占用率\n",
    "- %MEM 进程的内存占用率\n",
    "- VSZ 进程所使用的虚存的大小（Virtual Size）\n",
    "- RSS 进程使用的驻留集大小或者是实际内存的大小，Kbytes字节。\n",
    "- TTY 与进程关联的终端（tty）\n",
    "- STAT 进程的状态：进程状态使用字符表示的（STAT的状态码） \n",
    "- START 进程启动时间和日期\n",
    "- TIME 进程使用的总cpu时间\n",
    "- COMMAND 正在执行的命令行命令\n",
    "- NI 优先级(Nice)\n",
    "- PRI 进程优先级编号(Priority)\n",
    "- WCHAN 进程正在睡眠的内核函数名称；该函数的名称是从/root/system.map文件中获得的。\n",
    "- FLAGS 与进程相关的数字标识\n",
    "\n",
    "此外，Linux中还有如下的进程命令：\n",
    "- top 提供系统中不同进程所使用资源的实时状态\n",
    "- kill 用于结束进程，可使用-9参数来强制执行。kill <pid> 或  kill -9 <pid>\n",
    "\n",
    "更详细内容讲：https://blog.csdn.net/freeking101/article/details/53444530"
   ]
  },
  {
   "cell_type": "code",
   "execution_count": null,
   "metadata": {
    "collapsed": false
   },
   "outputs": [],
   "source": [
    "!ps -eo pid,cmd,comm,etime,time,pcpu,pmem,rss,vsz,tty,user,"
   ]
  },
  {
   "cell_type": "code",
   "execution_count": null,
   "metadata": {
    "collapsed": false
   },
   "outputs": [],
   "source": [
    "!ps aux "
   ]
  },
  {
   "cell_type": "code",
   "execution_count": null,
   "metadata": {
    "collapsed": false
   },
   "outputs": [],
   "source": []
  },
  {
   "cell_type": "code",
   "execution_count": null,
   "metadata": {
    "collapsed": false
   },
   "outputs": [],
   "source": []
  }
 ],
 "metadata": {
  "anaconda-cloud": {},
  "kernelspec": {
   "display_name": "Python [tensorflow]",
   "language": "python",
   "name": "Python [tensorflow]"
  },
  "language_info": {
   "codemirror_mode": {
    "name": "ipython",
    "version": 3
   },
   "file_extension": ".py",
   "mimetype": "text/x-python",
   "name": "python",
   "nbconvert_exporter": "python",
   "pygments_lexer": "ipython3",
   "version": "3.5.4"
  }
 },
 "nbformat": 4,
 "nbformat_minor": 0
}
