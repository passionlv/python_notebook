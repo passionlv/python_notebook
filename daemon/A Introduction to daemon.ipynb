{
 "cells": [
  {
   "cell_type": "markdown",
   "metadata": {},
   "source": [
    "# daemon讲解"
   ]
  },
  {
   "cell_type": "markdown",
   "metadata": {},
   "source": [
    "### 目录\n",
    "- 基本概念\n",
    "- 基本原理 \n",
    "- PEP 4134 设计\n",
    "- python-daemon库\n",
    "- python-daemon实例\n",
    "- 附录 A: 一个python daemon的实现\n",
    "- 附录 B: 其他daemon的实现\n"
   ]
  },
  {
   "cell_type": "markdown",
   "metadata": {},
   "source": [
    "## 基本概念 \n",
    "\n",
    "### 进程\n",
    "\n",
    "进程是程序的一个运行实例，也是执行程序的过程。同一个程序可以执行多次，每次都对应一个进程。在每次执行程序时，进程开辟独立内存空间、IO接口。操作系统的一个重要功能就是进程管理，其功能主要是为进程分配内存空间，管理进程的相关信息等等。\n",
    "\n",
    "在Linux中，可用$ps命令来查询正在运行的进程。关于ps命令可参加：https://blog.csdn.net/freeking101/article/details/53444530"
   ]
  },
  {
   "cell_type": "markdown",
   "metadata": {},
   "source": [
    "### fork() \n",
    "\n",
    "#### fork 处理过程\n",
    "\n",
    "在类Unix系统中，操作系统提供了fork()系统调用，用于创建新的进程。与其他系统调用不同，fork()有如下特性：  \n",
    "- 参数：无参数\n",
    "- 返回值\n",
    "    - 如果成功创建一个子进程，对于父进程来说返回子进程ID\n",
    "    - 如果成功创建一个子进程，对于子进程来说返回值为0\n",
    "    - 如果为-1表示创建失败（比如内存溢出等，无法创建子进程）\n",
    "- 在fork()返回后，父、子进程开始从下一条指令开始执行。\n",
    "\n",
    "有了fork调用，一个进程可创建子进程去处理新任务。例如，Apache服务器就是由父进程监听端口，每当有新http请求时，就fork出子进程来处理新的http请求。"
   ]
  },
  {
   "cell_type": "code",
   "execution_count": 1,
   "metadata": {
    "collapsed": false
   },
   "outputs": [
    {
     "name": "stdout",
     "output_type": "stream",
     "text": [
      "(22249, 21871<-21670)\n",
      "(22250, 22246<-21871)\n",
      "(0, 22248<-22245)\n",
      "(22248, 22245<-21871)\n",
      "(0, 22249<-21871)\n",
      "(22256, 22247<-22245)\n",
      "(0, 22250<-22246)\n",
      "(0, 22256<-22247)\n"
     ]
    }
   ],
   "source": [
    "# 实例： 说明fork的父、子进程都是从fork()函数的下一句开始，并行执行。 多层树型结构\n",
    "import os\n",
    "#print('Process %s start. ppid=%s'%(os.getpid(), os.getppid()))\n",
    "pid = os.fork()\n",
    "pid = os.fork()\n",
    "pid = os.fork()\n",
    "# how many time to print?  指数级增长：2**n 次\n",
    "print('(%s, %s<-%s)'%(pid, os.getpid(), os.getppid()))"
   ]
  },
  {
   "cell_type": "markdown",
   "metadata": {},
   "source": [
    "#### fork 调用关系\n",
    "\n",
    "fork系统调用之后，父子进程将交替执行。根据父、子进程的退出顺序有如下情况：\n",
    "1. 如父进程先退出，子进程还没退出，子进程的父进程将变为init进程。（注：任何一个进程都必须有父进程） \n",
    "2. 如子进程先退出，父进程还没退出，子进程必须等到父进程捕获到了子进程的退出状态才真正结束，否则这个时候子进程就成为僵进程。\n",
    "\n",
    "当然，子进程退出会发送SIGCHLD信号给父进程，可以选择忽略或使用信号处理函数接收处理就可以避免僵尸进程。"
   ]
  },
  {
   "cell_type": "markdown",
   "metadata": {},
   "source": [
    "#### fork 子进程资源\n",
    "fork出的子进程继承了父进程下面这些属性：\n",
    "- uid,gid,euid,egid\n",
    "- 附加组id(sgid,supplementary group id) //sgid引入原因是有时候希望这个用户属于多个其他部门，这些其他部门的gid就是sgid\n",
    "- 进程组id,会话id\n",
    "- SUID标记和SGID标记\n",
    "- 控制终端\n",
    "- 当前工作目录/根目录\n",
    "- 文件创建时的umask\n",
    "- 文件描述符的文件标志(close-on-exec)\n",
    "- 信号屏蔽和处理\n",
    "- 存储映射\n",
    "- 资源限制  \n",
    "\n",
    "未被继承的属性有：\n",
    "- pid不同\n",
    "- 进程时间被清空\n",
    "- 文件锁没有继承\n",
    "- 未处理信号被清空\n",
    "\n",
    "https://cloud.tencent.com/developer/article/1012442\n",
    "https://blog.csdn.net/u013210620/article/details/78710532\n",
    "https://www.cnblogs.com/qianchengprogram/p/6605675.html\n",
    "https://www.jianshu.com/p/e3f3d49093ca\n",
    "https://www.jb51.net/article/128316.htm\n",
    "https://www.liaoxuefeng.com/wiki/0014316089557264a6b348958f449949df42a6d3a2e542c000/001431927781401bb47ccf187b24c3b955157bb12c5882d000"
   ]
  },
  {
   "cell_type": "markdown",
   "metadata": {},
   "source": [
    "#### 跨平台的多进程\n",
    "\n",
    "Windows没有fork调用，因此fork无法在Windows运行。但是，Python提供了如下跨平台进程模块：\n",
    "- multiprocessing 提供了Process类、Pool类，创建子进程\n",
    "- subprocess \n",
    "\n",
    "multiprocessing 模块提供了一个 Process 类来创建进程对象，创建子进程时，需传入执行函数及参数。其常见函数包括：\n",
    "1. start()方法启动子进程\n",
    "2. join()方法等待P进程执行结束，在P子进程结束前，挂起父进程。通常用于进程间的同步。\n",
    "\n",
    "下面的例子演示了启动一个子进程并等待其结束："
   ]
  },
  {
   "cell_type": "code",
   "execution_count": 7,
   "metadata": {
    "collapsed": false
   },
   "outputs": [
    {
     "name": "stdout",
     "output_type": "stream",
     "text": [
      "Parent process 21871.\n",
      "Child process will start.\n",
      "Run child process HelloWorld (22434)...\n",
      "Child process end.\n"
     ]
    }
   ],
   "source": [
    "from multiprocessing import Process\n",
    "import os\n",
    "\n",
    "# 子进程要执行的代码\n",
    "def run_proc(name):\n",
    "    print('Run child process %s (%s)...' % (name, os.getpid()))\n",
    "\n",
    "print('Parent process %s.' % os.getpid())\n",
    "p = Process(target=run_proc, args=('HelloWorld',))\n",
    "print('Child process will start.')\n",
    "p.start()\n",
    "# join：如果不使用join那么run_proc可能在父进程结束之后运行。 \n",
    "p.join()\n",
    "print('Child process end.')"
   ]
  },
  {
   "cell_type": "markdown",
   "metadata": {},
   "source": [
    "#### Pool 进程池（待修改）\n",
    "\n",
    "如果要启动大量的子进程，可以用进程池的方式批量创建子进程，也就是使用 multiprocessing.Pool 类。 "
   ]
  },
  {
   "cell_type": "code",
   "execution_count": 15,
   "metadata": {
    "collapsed": false
   },
   "outputs": [
    {
     "name": "stdout",
     "output_type": "stream",
     "text": [
      "Parent process 21871.\n",
      "Run process 2 (23384)...\n",
      "Run process 0 (23382)...\n",
      "Run process 1 (23383)...\n",
      "Run process 3 (23385)...\n",
      "process 2 runs 0.06 seconds. \n",
      "Waiting for all subprocesses done...\n",
      "Run process 4 (23384)...\n",
      "process 4 runs 0.06 seconds. \n",
      "process 0 runs 0.54 seconds. \n",
      "process 3 runs 1.05 seconds. \n",
      "process 1 runs 1.17 seconds. \n",
      "All subprocesses done.\n"
     ]
    }
   ],
   "source": [
    "from multiprocessing import Pool\n",
    "import os, random\n",
    "\n",
    "def long_time_task(name):\n",
    "    print('Run process %s (%s)...' % (name, os.getpid()))\n",
    "    sl = random.random() * 2\n",
    "    time.sleep(sl)\n",
    "    print('process %s runs %0.2f seconds. ' % (name, sl))\n",
    "\n",
    "if __name__=='__main__':\n",
    "    print('Parent process %s.' % os.getpid())\n",
    "    p = Pool(4)\n",
    "    for i in range(5):\n",
    "        p.apply_async(long_time_task, args=(i,))\n",
    "    print('Waiting for all subprocesses done...')\n",
    "    p.close()\n",
    "    p.join()\n",
    "    print('All subprocesses done.')"
   ]
  },
  {
   "cell_type": "markdown",
   "metadata": {},
   "source": [
    "代码解读：\n",
    "\n",
    "对Pool对象调用join()方法会等待所有子进程执行完毕，调用join()之前必须先调用close()，调用close()之后就不能继续添加新的Process了。\n",
    "\n",
    "请注意输出，有四个task是立刻执行的，输出Run task x，而最后一个task 要等待前面某个task完成后才执行，这是因为在Pool初始化的时候设定为4。因此，最多同时执行4个进程。\n",
    "- 如果改成：p = Pool(5) 就可以同时跑5个进程；\n",
    "- 改为 p = Pool(3) 就可以同时跑5个进程；\n",
    "- 如果不设定，p = Pool(), 那么Pool的默认大小是电脑的CPU核数，我的电脑是4. \n",
    "\n"
   ]
  },
  {
   "cell_type": "markdown",
   "metadata": {},
   "source": [
    "#### subporcess 子进程（待修改，无法使用）\n",
    "https://www.liaoxuefeng.com/wiki/0014316089557264a6b348958f449949df42a6d3a2e542c000/001431927781401bb47ccf187b24c3b955157bb12c5882d000\n",
    "很多时候，子进程并不是自身，而是一个外部进程。我们创建了子进程后，还需要控制子进程的输入和输出。\n",
    "\n",
    "subprocess模块可以让我们非常方便地启动一个子进程，然后控制其输入和输出。\n",
    "\n",
    "下面的例子演示了如何在Python代码中运行命令nslookup www.biadu.com， 这和命令行直接运行的效果是一样的："
   ]
  },
  {
   "cell_type": "code",
   "execution_count": 21,
   "metadata": {
    "collapsed": false
   },
   "outputs": [
    {
     "name": "stdout",
     "output_type": "stream",
     "text": [
      "$ nslookup www.baidu.com\n",
      "Exit code: 0\n"
     ]
    }
   ],
   "source": [
    "import subprocess\n",
    "\n",
    "print('$ nslookup www.baidu.com')\n",
    "r = subprocess.call(['nslookup', 'www.baidu.com'])\n",
    "print('Exit code:', r)"
   ]
  },
  {
   "cell_type": "code",
   "execution_count": 19,
   "metadata": {
    "collapsed": false
   },
   "outputs": [
    {
     "name": "stdout",
     "output_type": "stream",
     "text": [
      "Server:\t\t127.0.0.53\r\n",
      "Address:\t127.0.0.53#53\r\n",
      "\r\n",
      "Non-authoritative answer:\r\n",
      "www.baidu.com\tcanonical name = www.a.shifen.com.\r\n",
      "Name:\twww.a.shifen.com\r\n",
      "Address: 119.75.216.20\r\n",
      "Name:\twww.a.shifen.com\r\n",
      "Address: 119.75.213.61\r\n",
      "\r\n"
     ]
    }
   ],
   "source": [
    "!nslookup www.baidu.com"
   ]
  },
  {
   "cell_type": "code",
   "execution_count": 25,
   "metadata": {
    "collapsed": false
   },
   "outputs": [
    {
     "name": "stdout",
     "output_type": "stream",
     "text": [
      "Hello, Alice (in Thread-A)\n",
      "Hello, Bob (in Thread-B)\n"
     ]
    }
   ],
   "source": [
    "import threading\n",
    "\n",
    "# 创建全局ThreadLocal对象:\n",
    "local_school = threading.local()\n",
    "\n",
    "def process_student():\n",
    "    # 获取当前线程关联的student:\n",
    "    std = local_school.student\n",
    "    print('Hello, %s (in %s)' % (std, threading.current_thread().name))\n",
    "\n",
    "def process_thread(name):\n",
    "    # 绑定ThreadLocal的student:\n",
    "    local_school.student = name\n",
    "    process_student()\n",
    "\n",
    "t1 = threading.Thread(target= process_thread, args=('Alice',), name='Thread-A')\n",
    "t2 = threading.Thread(target= process_thread, args=('Bob',), name='Thread-B')\n",
    "t1.start()\n",
    "t2.start()\n",
    "t1.join()\n",
    "t2.join()"
   ]
  },
  {
   "cell_type": "code",
   "execution_count": null,
   "metadata": {
    "collapsed": true
   },
   "outputs": [],
   "source": []
  },
  {
   "cell_type": "code",
   "execution_count": null,
   "metadata": {
    "collapsed": true
   },
   "outputs": [],
   "source": []
  },
  {
   "cell_type": "code",
   "execution_count": null,
   "metadata": {
    "collapsed": true
   },
   "outputs": [],
   "source": []
  },
  {
   "cell_type": "code",
   "execution_count": null,
   "metadata": {
    "collapsed": true
   },
   "outputs": [],
   "source": []
  },
  {
   "cell_type": "code",
   "execution_count": null,
   "metadata": {
    "collapsed": true
   },
   "outputs": [],
   "source": []
  },
  {
   "cell_type": "markdown",
   "metadata": {},
   "source": [
    "### 多线程（multithread）"
   ]
  },
  {
   "cell_type": "markdown",
   "metadata": {},
   "source": [
    "### fock 进程"
   ]
  },
  {
   "cell_type": "code",
   "execution_count": null,
   "metadata": {
    "collapsed": true
   },
   "outputs": [],
   "source": []
  }
 ],
 "metadata": {
  "anaconda-cloud": {},
  "kernelspec": {
   "display_name": "Python [Root]",
   "language": "python",
   "name": "Python [Root]"
  },
  "language_info": {
   "codemirror_mode": {
    "name": "ipython",
    "version": 3
   },
   "file_extension": ".py",
   "mimetype": "text/x-python",
   "name": "python",
   "nbconvert_exporter": "python",
   "pygments_lexer": "ipython3",
   "version": "3.5.2"
  }
 },
 "nbformat": 4,
 "nbformat_minor": 1
}
