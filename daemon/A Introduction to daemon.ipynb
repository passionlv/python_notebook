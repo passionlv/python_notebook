{
 "cells": [
  {
   "cell_type": "markdown",
   "metadata": {},
   "source": [
    "# daemon讲解"
   ]
  },
  {
   "cell_type": "markdown",
   "metadata": {},
   "source": [
    "### 目录\n",
    "- 基本概念\n",
    "- 基本原理 \n",
    "- PEP 4134 设计\n",
    "- python-daemon库\n",
    "- python-daemon实例\n",
    "- 附录 A: 一个python daemon的实现\n",
    "- 附录 B: 其他daemon的实现\n"
   ]
  },
  {
   "cell_type": "markdown",
   "metadata": {},
   "source": [
    "## 基本概念 \n",
    "\n",
    "### 进程\n",
    "\n",
    "进程是程序的一个运行实例，也是执行程序的过程。同一个程序可以执行多次，每次都对应一个进程。在每次执行程序时，进程开辟独立内存空间、IO接口。操作系统的一个重要功能就是进程管理，其功能主要是为进程分配内存空间，管理进程的相关信息等等。\n",
    "\n",
    "在Linux中，可用$ps命令来查询正在运行的进程。关于ps命令可参加：https://blog.csdn.net/freeking101/article/details/53444530\n",
    "\n",
    "### fork() \n",
    "\n",
    "#### fork 处理过程\n",
    "\n",
    "在类Unix系统中，操作系统提供了fork()系统调用，用于创建新的进程。与其他系统调用不同，fork()有如下特性：  \n",
    "- 参数：无参数\n",
    "- 返回值\n",
    "    - 如果成功创建一个子进程，对于父进程来说返回子进程ID\n",
    "    - 如果成功创建一个子进程，对于子进程来说返回值为0\n",
    "    - 如果为-1表示创建失败（比如内存溢出等，无法创建子进程）\n",
    "- 在fork()返回后，父、子进程开始从下一条指令开始执行。"
   ]
  },
  {
   "cell_type": "code",
   "execution_count": 45,
   "metadata": {},
   "outputs": [
    {
     "name": "stdout",
     "output_type": "stream",
     "text": [
      "(13925, 6334<-6098)\n",
      "(13926, 13904<-6334)\n",
      "(13917, 13912<-6334)\n",
      "(13916, 13908<-13905)\n",
      "(13927, 13905<-6334)\n",
      "(0, 13927<-13905)\n",
      "(0, 13916<-13908)\n",
      "(13930, 13915<-13907)\n",
      "(0, 13917<-13912)\n",
      "(0, 13926<-13904)\n",
      "(13937, 13907<-13904)\n",
      "(0, 13925<-6334)\n",
      "(13942, 13924<-13904)\n",
      "(0, 13930<-13915)\n",
      "(0, 13937<-13907)\n",
      "(0, 13942<-13924)\n"
     ]
    }
   ],
   "source": [
    "# 实例： 说明fork的父、子进程都是从fork()函数的下一句开始，并行执行。 多层树型结构\n",
    "import os\n",
    "#print('Process %s start. ppid=%s'%(os.getpid(), os.getppid()))\n",
    "pid = os.fork()\n",
    "pid = os.fork()\n",
    "pid = os.fork()\n",
    "pid = os.fork()\n",
    "# how many time to print?  指数级增长：2**n 次\n",
    "print('(%s, %s<-%s)'%(pid, os.getpid(), os.getppid()))"
   ]
  },
  {
   "cell_type": "code",
   "execution_count": 40,
   "metadata": {},
   "outputs": [
    {
     "name": "stdout",
     "output_type": "stream",
     "text": [
      "In perent( new child:13610, 6334<-6098)\n",
      "In child(0, 13610<-6334)\n",
      "In perent( new child:13610, 13611<-6334)\n"
     ]
    }
   ],
   "source": [
    "# 实例： 同一个父进程，创建多个不同的子进程。 双层树型结构\n",
    "import os\n",
    "#print('Process %s start. ppid=%s'%(os.getpid(), os.getppid()))\n",
    "pid = os.fork()\n",
    "if (pid > 0):\n",
    "    os.fork()\n",
    "    print('In perent( new child:%s, %s<-%s)'%(pid, os.getpid(), os.getppid()))\n",
    "else:\n",
    "    print('In child(%s, %s<-%s)'%(pid, os.getpid(), os.getppid()))"
   ]
  },
  {
   "cell_type": "markdown",
   "metadata": {},
   "source": [
    "#### fork 子进程资源\n",
    "fork出的子进程继承了父进程下面这些属性：\n",
    "- uid,gid,euid,egid\n",
    "- 附加组id(sgid,supplementary group id) //sgid引入原因是有时候希望这个用户属于多个其他部门，这些其他部门的gid就是sgid\n",
    "- 进程组id,会话id\n",
    "- SUID标记和SGID标记\n",
    "- 控制终端\n",
    "- 当前工作目录/根目录\n",
    "- 文件创建时的umask\n",
    "- 文件描述符的文件标志(close-on-exec)\n",
    "- 信号屏蔽和处理\n",
    "- 存储映射\n",
    "- 资源限制  \n",
    "\n",
    "未被继承的属性有：\n",
    "- pid不同\n",
    "- 进程时间被清空\n",
    "- 文件锁没有继承\n",
    "- 未处理信号被清空\n",
    "\n",
    "https://cloud.tencent.com/developer/article/1012442\n",
    "https://blog.csdn.net/u013210620/article/details/78710532\n",
    "https://www.cnblogs.com/qianchengprogram/p/6605675.html\n",
    "https://www.jianshu.com/p/e3f3d49093ca\n",
    "https://www.jb51.net/article/128316.htm\n",
    "https://www.liaoxuefeng.com/wiki/0014316089557264a6b348958f449949df42a6d3a2e542c000/001431927781401bb47ccf187b24c3b955157bb12c5882d000"
   ]
  },
  {
   "cell_type": "markdown",
   "metadata": {},
   "source": [
    "### 多线程（multithread）"
   ]
  },
  {
   "cell_type": "markdown",
   "metadata": {},
   "source": [
    "### fock 进程"
   ]
  },
  {
   "cell_type": "code",
   "execution_count": null,
   "metadata": {},
   "outputs": [],
   "source": []
  }
 ],
 "metadata": {
  "anaconda-cloud": {},
  "kernelspec": {
   "display_name": "Python 3",
   "language": "python",
   "name": "python3"
  },
  "language_info": {
   "codemirror_mode": {
    "name": "ipython",
    "version": 3
   },
   "file_extension": ".py",
   "mimetype": "text/x-python",
   "name": "python",
   "nbconvert_exporter": "python",
   "pygments_lexer": "ipython3",
   "version": "3.6.6"
  }
 },
 "nbformat": 4,
 "nbformat_minor": 1
}
