{
 "cells": [
  {
   "cell_type": "markdown",
   "metadata": {},
   "source": [
    "# daemon讲解"
   ]
  },
  {
   "cell_type": "markdown",
   "metadata": {},
   "source": [
    "### 目录\n",
    "- 基本概念\n",
    "- 基本原理 \n",
    "- PEP 4134 设计\n",
    "- python-daemon库\n",
    "- python-daemon实例\n",
    "- 附录 A: 一个python daemon的实现\n",
    "- 附录 B: 其他daemon的实现\n"
   ]
  },
  {
   "cell_type": "markdown",
   "metadata": {},
   "source": [
    "## 基本概念 \n",
    "\n",
    "### 线程\n",
    "\n",
    "\n",
    "\n"
   ]
  }
 ],
 "metadata": {
  "anaconda-cloud": {},
  "kernelspec": {
   "display_name": "Python [tensorflow]",
   "language": "python",
   "name": "Python [tensorflow]"
  },
  "language_info": {
   "codemirror_mode": {
    "name": "ipython",
    "version": 3
   },
   "file_extension": ".py",
   "mimetype": "text/x-python",
   "name": "python",
   "nbconvert_exporter": "python",
   "pygments_lexer": "ipython3",
   "version": "3.5.4"
  }
 },
 "nbformat": 4,
 "nbformat_minor": 0
}
