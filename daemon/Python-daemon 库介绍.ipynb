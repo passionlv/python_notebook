{
 "cells": [
  {
   "cell_type": "markdown",
   "metadata": {},
   "source": [
    "# Python-daemon 库介绍\n",
    "\n",
    "\n",
    "库的官方地址：https://pagure.io/python-daemon\n",
    "\n",
    "\n"
   ]
  },
  {
   "cell_type": "markdown",
   "metadata": {},
   "source": [
    "## 守护进程的几个参数\n",
    "\n",
    "\n",
    "守护进程的上下文参数：\n",
    "\n",
    "1. **files_preserve**: 文件列表，当启动daemon时，这些文件不应该被关闭。 列表的元素应该是文件描述符（file descriptors，例如file对象的fileno()方法的返回值）或者是Python的file对象。 \n",
    "    - 如果设定为None（默认值），所有打开的文件将被关闭。\n",
    "2. chroot_directory：进程根目录的完整路径，如果设为None（默认值），指定的根目录与父进程一样。 \n",
    "\n",
    "3. working_directory：工作目录的完整路径。 \n",
    "\n",
    "4. umask：进程创建文件时的umask值。 \n",
    "\n",
    "5. pidfile：用于PID lock 上下文管理的文件。 守护进程启动和关闭，将进入或离开pidfile指定的上下文环境\n",
    "\n",
    "6. detach_process： "
   ]
  },
  {
   "cell_type": "code",
   "execution_count": 3,
   "metadata": {},
   "outputs": [
    {
     "ename": "NameError",
     "evalue": "name 'DaemonContext' is not defined",
     "output_type": "error",
     "traceback": [
      "\u001b[0;31m---------------------------------------------------------------------------\u001b[0m",
      "\u001b[0;31mNameError\u001b[0m                                 Traceback (most recent call last)",
      "\u001b[0;32m<ipython-input-3-2bee7d6146da>\u001b[0m in \u001b[0;36m<module>\u001b[0;34m()\u001b[0m\n\u001b[1;32m      7\u001b[0m         \u001b[0mprint\u001b[0m\u001b[0;34m(\u001b[0m\u001b[0;34m'another second passed'\u001b[0m\u001b[0;34m)\u001b[0m\u001b[0;34m\u001b[0m\u001b[0m\n\u001b[1;32m      8\u001b[0m \u001b[0;34m\u001b[0m\u001b[0m\n\u001b[0;32m----> 9\u001b[0;31m \u001b[0mcontext\u001b[0m \u001b[0;34m=\u001b[0m \u001b[0mDaemonContext\u001b[0m\u001b[0;34m(\u001b[0m\u001b[0;34m)\u001b[0m\u001b[0;34m\u001b[0m\u001b[0m\n\u001b[0m",
      "\u001b[0;31mNameError\u001b[0m: name 'DaemonContext' is not defined"
     ]
    }
   ],
   "source": [
    "import daemon\n",
    "\n",
    "def do_main_program():\n",
    "    print(\"start the main program...\")\n",
    "    while True:\n",
    "        time.sleep(1)\n",
    "        print('another second passed')\n",
    "\n",
    "context = daemon.DaemonContext()"
   ]
  },
  {
   "cell_type": "code",
   "execution_count": null,
   "metadata": {},
   "outputs": [],
   "source": [
    "import daemon\n",
    "import logging\n",
    "import time\n",
    "import signal\n",
    "import threading\n",
    "\n",
    "logfilename = '/home/xiaopeng/tmp/testdaemon.log'\n",
    "logger = logging.getLogger(\"DaemonLog\")\n",
    "logger.setLevel(logging.INFO)\n",
    "formatter = logging.Formatter(\n",
    "    '%(asctime)s:%(levelname)s:%(message)s',\n",
    "    '%Y-%m-%d %H:%M:%S')\n",
    "handler = logging.FileHandler(logfilename)\n",
    "handler.setFormatter(formatter)\n",
    "logger.addHandler(handler)\n",
    "\n",
    "def initial_program_setup():\n",
    "    logger.info('daemon started')\n",
    "\n",
    "def do_main_program():\n",
    "    print(\"start the main program...\")\n",
    "    #while True:\n",
    "    #    time.sleep(1)\n",
    "    #    logger.info('another second passed')\n",
    "\n",
    "def program_cleanup(signum, frame):\n",
    "    logger.info('daemon stops')\n",
    "    context.terminate(signum, frame)\n",
    "\n",
    "def reload_program_config(signum, frame):\n",
    "    logger.info('reloading config')\n",
    "context = daemon.DaemonContext()\n",
    "\n",
    "context.signal_map = {\n",
    "    signal.SIGTERM: program_cleanup,\n",
    "    signal.SIGHUP: 'terminate',\n",
    "    signal.SIGUSR1: reload_program_config,\n",
    "    }\n",
    "\n",
    "context.files_preserve = [handler.stream]\n",
    "\n",
    "initial_program_setup()\n",
    "\n",
    "with context:\n",
    "    print(\"ehl\")\n",
    "#    do_main_program()\n",
    "\n",
    "print(\"end \")"
   ]
  },
  {
   "cell_type": "code",
   "execution_count": null,
   "metadata": {},
   "outputs": [],
   "source": []
  },
  {
   "cell_type": "markdown",
   "metadata": {},
   "source": [
    "## 附录 PEP 3143\n"
   ]
  }
 ],
 "metadata": {
  "kernelspec": {
   "display_name": "Python 3",
   "language": "python",
   "name": "python3"
  },
  "language_info": {
   "codemirror_mode": {
    "name": "ipython",
    "version": 3
   },
   "file_extension": ".py",
   "mimetype": "text/x-python",
   "name": "python",
   "nbconvert_exporter": "python",
   "pygments_lexer": "ipython3",
   "version": "3.6.6"
  }
 },
 "nbformat": 4,
 "nbformat_minor": 2
}
