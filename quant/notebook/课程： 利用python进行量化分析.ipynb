{
 "cells": [
  {
   "cell_type": "markdown",
   "metadata": {},
   "source": [
    "# 课程介绍\n",
    "\n",
    "本门课程是面向"
   ]
  }
 ],
 "metadata": {
  "kernelspec": {
   "display_name": "Python [rqalpha]",
   "language": "python",
   "name": "Python [rqalpha]"
  },
  "language_info": {
   "codemirror_mode": {
    "name": "ipython",
    "version": 3
   },
   "file_extension": ".py",
   "mimetype": "text/x-python",
   "name": "python",
   "nbconvert_exporter": "python",
   "pygments_lexer": "ipython3",
   "version": "3.5.4"
  }
 },
 "nbformat": 4,
 "nbformat_minor": 0
}
