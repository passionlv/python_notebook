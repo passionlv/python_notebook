{
 "cells": [
  {
   "cell_type": "markdown",
   "metadata": {},
   "source": [
    "# 课程1： 量化概览 （45分钟）\n",
    "\n",
    "## 目录\n",
    "\n",
    "1. 量化定义\n",
    "2. 量化历史\n",
    "    - 世界量化史\n",
    "    - 中国量化史\n",
    "    - 关键量化组织\n",
    "    - 关键量化领袖\n",
    "3. 量化分工\n",
    "    - 量化角色\n",
    "    - 量化平台\n",
    "    - 量化分析工具\n",
    "4. 课程介绍\n",
    "    - 量化概览\n",
    "    - 量化关键词\n",
    "    - 量化分析工具\n",
    "    - 量化数据\n",
    "    - 机器学习\n",
    "    - 深度学习\n",
    "    - 爬虫以及自然语言分析\n",
    "5. 资料推荐\n",
    "    - 量化入门资料 \n",
    "    - 量化理论资料\n",
    "    - 量化学习路径\n",
    "    - 量化公众号 \n",
    "    \n",
    " "
   ]
  },
  {
   "cell_type": "markdown",
   "metadata": {},
   "source": [
    "## 量化定义"
   ]
  },
  {
   "cell_type": "markdown",
   "metadata": {},
   "source": [
    "## 量化历史"
   ]
  },
  {
   "cell_type": "markdown",
   "metadata": {},
   "source": [
    "## 量化分工"
   ]
  },
  {
   "cell_type": "markdown",
   "metadata": {},
   "source": [
    "## 课程介绍"
   ]
  },
  {
   "cell_type": "markdown",
   "metadata": {},
   "source": [
    "## 资料推荐"
   ]
  },
  {
   "cell_type": "markdown",
   "metadata": {},
   "source": []
  },
  {
   "cell_type": "markdown",
   "metadata": {},
   "source": []
  },
  {
   "cell_type": "markdown",
   "metadata": {},
   "source": []
  },
  {
   "cell_type": "markdown",
   "metadata": {},
   "source": []
  },
  {
   "cell_type": "markdown",
   "metadata": {},
   "source": []
  },
  {
   "cell_type": "markdown",
   "metadata": {},
   "source": []
  },
  {
   "cell_type": "markdown",
   "metadata": {},
   "source": []
  },
  {
   "cell_type": "markdown",
   "metadata": {},
   "source": []
  },
  {
   "cell_type": "markdown",
   "metadata": {},
   "source": []
  }
 ],
 "metadata": {
  "anaconda-cloud": {},
  "kernelspec": {
   "display_name": "Python [rqalpha]",
   "language": "python",
   "name": "Python [rqalpha]"
  },
  "language_info": {
   "codemirror_mode": {
    "name": "ipython",
    "version": 3
   },
   "file_extension": ".py",
   "mimetype": "text/x-python",
   "name": "python",
   "nbconvert_exporter": "python",
   "pygments_lexer": "ipython3",
   "version": "3.5.4"
  }
 },
 "nbformat": 4,
 "nbformat_minor": 0
}
